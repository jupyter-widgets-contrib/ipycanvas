{
 "cells": [
  {
   "cell_type": "code",
   "execution_count": null,
   "id": "2b36870c-73fc-481c-a682-9a5eabab63af",
   "metadata": {},
   "outputs": [],
   "source": [
    "from ipycanvas import MultiCanvas\n",
    "m = MultiCanvas(n_canvases=3, width=200, height=200)\n",
    "m"
   ]
  },
  {
   "cell_type": "code",
   "execution_count": null,
   "id": "fb32b605-6a15-4376-bb87-d8c9333ab3ca",
   "metadata": {},
   "outputs": [],
   "source": [
    "def draw_square(canvas, pos, width, color):\n",
    "    canvas.fill_style = color\n",
    "    canvas.fill_rect(pos, pos, width, width)\n",
    "draw_square(m[0], 0, 200, \"orange\")"
   ]
  },
  {
   "cell_type": "code",
   "execution_count": null,
   "id": "fde5fc41-ee9f-495c-979b-20f3b879e59c",
   "metadata": {},
   "outputs": [],
   "source": [
    "draw_square(m[1], 50, 100, \"blue\")"
   ]
  },
  {
   "cell_type": "code",
   "execution_count": null,
   "id": "48f7c586-eafe-45d9-8ad7-c1ef6540dba9",
   "metadata": {},
   "outputs": [],
   "source": [
    "draw_square(m[2], 75, 50, \"green\")"
   ]
  },
  {
   "cell_type": "code",
   "execution_count": null,
   "id": "e14ee226-b078-40c1-8a48-f2b9e177bf79",
   "metadata": {},
   "outputs": [],
   "source": [
    "draw_square(m[0], 0, 200, \"red\")"
   ]
  },
  {
   "cell_type": "code",
   "execution_count": null,
   "id": "6d226c33-7e41-4795-a426-54f7916c7468",
   "metadata": {},
   "outputs": [],
   "source": [
    "m[1].clear()"
   ]
  },
  {
   "cell_type": "code",
   "execution_count": null,
   "id": "32a55acd-984c-4e55-8e02-a3e2717d382d",
   "metadata": {},
   "outputs": [],
   "source": [
    "draw_square(m[0], 0, 200, \"orange\")"
   ]
  }
 ],
 "metadata": {
  "kernelspec": {
   "display_name": "Python 3 (ipykernel)",
   "language": "python",
   "name": "python3"
  },
  "language_info": {
   "codemirror_mode": {
    "name": "ipython",
    "version": 3
   },
   "file_extension": ".py",
   "mimetype": "text/x-python",
   "name": "python",
   "nbconvert_exporter": "python",
   "pygments_lexer": "ipython3",
   "version": "3.10.4"
  },
  "widgets": {
   "application/vnd.jupyter.widget-state+json": {
    "state": {},
    "version_major": 2,
    "version_minor": 0
   }
  }
 },
 "nbformat": 4,
 "nbformat_minor": 5
}
