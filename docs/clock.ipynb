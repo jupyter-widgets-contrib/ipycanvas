{
  "metadata": {
    "kernelspec": {
      "display_name": "xeus-python",
      "language": "python",
      "name": "xeus-python"
    },
    "language_info": {
      "file_extension": ".py",
      "mimetype": "text/x-python",
      "name": "python",
      "version": "3.10.2"
    }
  },
  "nbformat_minor": 4,
  "nbformat": 4,
  "cells": [
    {
      "cell_type": "code",
      "source": "from ipycanvas import Canvas, hold_canvas\nimport numpy as np\n\nCLOCK_RADIUS = 100\n\ncanvas = Canvas(width=CLOCK_RADIUS * 2.5, height=CLOCK_RADIUS * 2.5)\ncanvas.translate(CLOCK_RADIUS * 1.2, CLOCK_RADIUS * 1.2)\n\n\ndef clear_drawing():\n    canvas.clear_rect(\n        -CLOCK_RADIUS * 1.2, -CLOCK_RADIUS * 1.2, canvas.width, canvas.height\n    )\n    canvas.fill_style = 'white'\n    canvas.fill_rect(-canvas.width/2, -canvas.height/2, canvas.width, canvas.height)\n\n\ndef minutes_vec(minutes):\n    a = minutes * np.pi / 30\n    return [np.sin(a), -np.cos(a)]\n\n\ndef draw_dial():\n    ht = 10\n    mt = 6\n    ho = 20\n    mo = 10\n\n    canvas.text_align = \"center\"\n    canvas.text_baseline = \"middle\"\n\n    canvas.line_width = 2\n    canvas.stroke_circle(0, 0, CLOCK_RADIUS)\n\n    for m in range(60):\n        a = m * np.pi / 30\n        x, y = np.sin(a), -np.cos(a)\n\n        canvas.line_width = 1\n        if m % 5 == 0:\n            canvas.stroke_line(\n                x * (CLOCK_RADIUS - ht),\n                y * (CLOCK_RADIUS - ht),\n                x * CLOCK_RADIUS,\n                y * CLOCK_RADIUS,\n            )\n            canvas.font = \"12px serif\"\n            canvas.stroke_text(str(m), x * (CLOCK_RADIUS + mo), y * (CLOCK_RADIUS + mo))\n            canvas.font = \"16px serif\"\n            canvas.stroke_text(\n                str(m // 5 if m > 0 else 12),\n                x * (CLOCK_RADIUS - ho),\n                y * (CLOCK_RADIUS - ho),\n            )\n        else:\n            canvas.stroke_line(\n                x * (CLOCK_RADIUS - mt),\n                y * (CLOCK_RADIUS - mt),\n                x * CLOCK_RADIUS,\n                y * CLOCK_RADIUS,\n            )\n\n\ndef draw_hands(minutes):\n    ms = 35\n    hs = 50\n\n    hrs = minutes // 60\n    mins = minutes % 60\n\n    mv = minutes_vec(mins)\n    hv = minutes_vec(hrs * 5 + (mins / 12))\n\n    canvas.line_width = 5\n    canvas.stroke_line(0, 0, mv[0] * (CLOCK_RADIUS - ms), mv[1] * (CLOCK_RADIUS - ms))\n    canvas.stroke_line(0, 0, hv[0] * (CLOCK_RADIUS - hs), hv[1] * (CLOCK_RADIUS - hs))\n\n\ndef draw_clock(hours, minutes):\n    with hold_canvas():\n        clear_drawing()\n        draw_dial()\n        draw_hands((hours % 12) * 60 + minutes)\n\n\ncanvas",
      "metadata": {
        "trusted": true
      },
      "execution_count": null,
      "outputs": []
    },
    {
      "cell_type": "code",
      "source": "import datetime\nimport ipywidgets as widgets\n\nnow = datetime.datetime.now()\n\nhour_text = widgets.IntText(\n    value=now.hour, continuous_update=True, layout={\"width\": \"50px\"}\n)\nminute_text = widgets.IntText(\n    value=now.minute, continuous_update=True, layout={\"width\": \"50px\"}\n)\n\n\ndef on_text_change(change):\n    draw_clock(int(hour_text.value), int(minute_text.value))\n\n\nhour_text.observe(on_text_change, names=\"value\")\nminute_text.observe(on_text_change, names=\"value\")\n\non_text_change(0)\n\nwidgets.HBox([hour_text, widgets.Label(value=\":\"), minute_text])",
      "metadata": {
        "trusted": true
      },
      "execution_count": null,
      "outputs": []
    },
    {
      "cell_type": "code",
      "source": "",
      "metadata": {},
      "execution_count": null,
      "outputs": []
    }
  ]
}