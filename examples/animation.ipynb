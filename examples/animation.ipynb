{
 "cells": [
  {
   "cell_type": "code",
   "execution_count": 65,
   "metadata": {},
   "outputs": [],
   "source": [
    "from ipycanvas import Canvas, hold_canvas"
   ]
  },
  {
   "cell_type": "code",
   "execution_count": 66,
   "metadata": {},
   "outputs": [],
   "source": [
    "import numpy as np"
   ]
  },
  {
   "cell_type": "code",
   "execution_count": 67,
   "metadata": {},
   "outputs": [],
   "source": [
    "from math import pi, cos, sin"
   ]
  },
  {
   "cell_type": "code",
   "execution_count": 68,
   "metadata": {},
   "outputs": [],
   "source": [
    "def fast_draw(canvas, t):\n",
    "    \"\"\"Same as draw, but using NumPy and the vectorized version of fill_circle: fill_circles\"\"\"\n",
    "    size = 1000\n",
    "    step = 20\n",
    "    t1 = t / 1000.0\n",
    "\n",
    "    x = np.linspace(0, size, int(size / step))\n",
    "    y = np.linspace(0, size, int(size / step))\n",
    "    xv, yv = np.meshgrid(x, y)\n",
    "\n",
    "    x_angle = y_angle = 2 * pi\n",
    "\n",
    "    angle = x_angle * (xv / size) + y_angle * (yv / size)\n",
    "\n",
    "    particle_x = xv + 20 * np.cos(2 * pi * t1 + angle)\n",
    "    particle_y = yv + 20 * np.sin(2 * pi * t1 + angle)\n",
    "\n",
    "    canvas.fill_circles(particle_x, particle_y, 6)"
   ]
  },
  {
   "cell_type": "code",
   "execution_count": 69,
   "metadata": {},
   "outputs": [
    {
     "data": {
      "application/vnd.jupyter.widget-view+json": {
       "model_id": "abab8a4fb5724ad48ef91bae1d1412f8",
       "version_major": 2,
       "version_minor": 0
      },
      "text/plain": [
       "Canvas(height=1000, width=1000)"
      ]
     },
     "execution_count": 69,
     "metadata": {},
     "output_type": "execute_result"
    }
   ],
   "source": [
    "size = 1000\n",
    "canvas = Canvas(width=size, height=size)\n",
    "canvas.fill_style = \"#fcba03\"\n",
    "canvas"
   ]
  },
  {
   "cell_type": "code",
   "execution_count": 73,
   "metadata": {},
   "outputs": [],
   "source": [
    "from time import sleep\n",
    "\n",
    "frames = []\n",
    "\n",
    "def on_new_frame(frame):\n",
    "    frames.append(frame)\n",
    "\n",
    "canvas.on_image_data(on_new_frame)\n",
    "\n",
    "for i in range(50):\n",
    "    with hold_canvas():\n",
    "        canvas.clear()\n",
    "\n",
    "        fast_draw(canvas, i * 20.0)\n",
    "\n",
    "        canvas.request_image_data()\n",
    "\n",
    "    sleep(20 / 1000.0)"
   ]
  },
  {
   "cell_type": "code",
   "execution_count": 59,
   "metadata": {},
   "outputs": [],
   "source": [
    "from PIL import Image"
   ]
  },
  {
   "cell_type": "code",
   "execution_count": 60,
   "metadata": {},
   "outputs": [
    {
     "data": {
      "text/plain": [
       "504787"
      ]
     },
     "execution_count": 60,
     "metadata": {},
     "output_type": "execute_result"
    }
   ],
   "source": [
    "len(frames[0])"
   ]
  },
  {
   "cell_type": "code",
   "execution_count": 61,
   "metadata": {},
   "outputs": [],
   "source": [
    "with open('test.png', 'wb') as fobj:\n",
    "    fobj.write(frames[0])"
   ]
  },
  {
   "cell_type": "code",
   "execution_count": 62,
   "metadata": {},
   "outputs": [],
   "source": [
    "img = Image.open('test.png')"
   ]
  },
  {
   "cell_type": "code",
   "execution_count": 63,
   "metadata": {},
   "outputs": [],
   "source": [
    "from PIL import Image\n",
    "from io import BytesIO\n",
    "import base64\n",
    "import re"
   ]
  },
  {
   "cell_type": "code",
   "execution_count": 40,
   "metadata": {},
   "outputs": [],
   "source": [
    "# Image.open(BytesIO(frames[0]))"
   ]
  },
  {
   "cell_type": "code",
   "execution_count": 32,
   "metadata": {},
   "outputs": [],
   "source": [
    "# Image.frombytes(data=frames[0].tobytes(), mode='RGBA', size=(canvas.width, canvas.height))"
   ]
  },
  {
   "cell_type": "code",
   "execution_count": 31,
   "metadata": {},
   "outputs": [],
   "source": [
    "# frames[0].tobytes()"
   ]
  },
  {
   "cell_type": "code",
   "execution_count": 64,
   "metadata": {},
   "outputs": [],
   "source": [
    "from PIL import Image\n",
    "\n",
    "imgs = [Image.open(BytesIO(frame)) for frame in frames]\n",
    "\n",
    "imgs[0].save('temp_result.gif', save_all=True, optimize=True, append_images=imgs[1:], loop=0, disposal=2, duration=30)"
   ]
  },
  {
   "cell_type": "code",
   "execution_count": null,
   "metadata": {},
   "outputs": [],
   "source": []
  }
 ],
 "metadata": {
  "kernelspec": {
   "display_name": "Python 3 (ipykernel)",
   "language": "python",
   "name": "python3"
  },
  "language_info": {
   "codemirror_mode": {
    "name": "ipython",
    "version": 3
   },
   "file_extension": ".py",
   "mimetype": "text/x-python",
   "name": "python",
   "nbconvert_exporter": "python",
   "pygments_lexer": "ipython3",
   "version": "3.10.5"
  }
 },
 "nbformat": 4,
 "nbformat_minor": 4
}
