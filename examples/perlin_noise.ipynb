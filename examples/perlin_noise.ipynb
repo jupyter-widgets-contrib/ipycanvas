{
 "cells": [
  {
   "cell_type": "code",
   "execution_count": null,
   "id": "colonial-biotechnology",
   "metadata": {},
   "outputs": [],
   "source": [
    "from random import randint\n",
    "\n",
    "from perlin_noise import PerlinNoise\n",
    "\n",
    "from ipycanvas import RoughCanvas, hold_canvas"
   ]
  },
  {
   "cell_type": "code",
   "execution_count": null,
   "id": "studied-plastic",
   "metadata": {},
   "outputs": [],
   "source": [
    "canvas = RoughCanvas(width=700, height=600)\n",
    "\n",
    "canvas.global_alpha = 0.1"
   ]
  },
  {
   "cell_type": "code",
   "execution_count": null,
   "id": "intimate-timer",
   "metadata": {},
   "outputs": [],
   "source": [
    "def draw_perlin_line(canvas):\n",
    "    points = []\n",
    "    noise = PerlinNoise()\n",
    "\n",
    "    start_point = (350, 600)\n",
    "    step = randint(6, 10)\n",
    "    x_step = randint(-3, 3)\n",
    "    factor = randint(20, 70)\n",
    "    xoff = 0\n",
    "    current_point = start_point\n",
    "\n",
    "    points.append(current_point)\n",
    "    for i in range(randint(20, 100) - 1):\n",
    "        current_point = (x_step + current_point[0] + factor * noise(xoff), current_point[1] - step)\n",
    "        points.append(current_point)\n",
    "        xoff += 0.1\n",
    "\n",
    "    canvas.stroke_lines(points)"
   ]
  },
  {
   "cell_type": "code",
   "execution_count": null,
   "id": "sized-accreditation",
   "metadata": {},
   "outputs": [],
   "source": [
    "n_lines = 200\n",
    "\n",
    "with hold_canvas(canvas):\n",
    "    for i in range(n_lines):\n",
    "        draw_perlin_line(canvas)"
   ]
  },
  {
   "cell_type": "code",
   "execution_count": null,
   "id": "integrated-guinea",
   "metadata": {},
   "outputs": [],
   "source": [
    "canvas"
   ]
  }
 ],
 "metadata": {
  "kernelspec": {
   "display_name": "Python 3",
   "language": "python",
   "name": "python3"
  },
  "language_info": {
   "codemirror_mode": {
    "name": "ipython",
    "version": 3
   },
   "file_extension": ".py",
   "mimetype": "text/x-python",
   "name": "python",
   "nbconvert_exporter": "python",
   "pygments_lexer": "ipython3",
   "version": "3.8.6"
  }
 },
 "nbformat": 4,
 "nbformat_minor": 5
}
