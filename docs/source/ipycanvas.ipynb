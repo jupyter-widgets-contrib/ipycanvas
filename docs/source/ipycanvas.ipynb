{
 "cells": [
  {
   "cell_type": "code",
   "execution_count": null,
   "id": "b7c49844",
   "metadata": {},
   "outputs": [],
   "source": [
    "# This cell is only needed in this documentation page\n",
    "# do not try to run this in your Notebooks if not using JupyterLite, it won't work :)\n",
    "import piplite\n",
    "\n",
    "await piplite.install(\"ipycanvas\")"
   ]
  },
  {
   "cell_type": "code",
   "execution_count": null,
   "id": "27d1bf8c",
   "metadata": {},
   "outputs": [],
   "source": [
    "from math import pi\n",
    "\n",
    "from ipycanvas import Canvas\n",
    "\n",
    "canvas = Canvas(width=1600, height=1200, layout=dict(width=\"100%\"))\n",
    "\n",
    "canvas.fill_style = \"#8ee05e\"\n",
    "canvas.fill_rect(0, 0, canvas.width, canvas.height)\n",
    "\n",
    "canvas.fill_style = \"#f5f533\"\n",
    "canvas.fill_circle(canvas.width / 2.0, canvas.height / 2.0, 500)\n",
    "\n",
    "canvas.stroke_style = \"black\"\n",
    "canvas.line_width = 30\n",
    "canvas.stroke_circle(canvas.width / 2.0, canvas.height / 2.0, 500)\n",
    "\n",
    "canvas.fill_style = \"black\"\n",
    "canvas.fill_circle(canvas.width / 2.7, canvas.height / 3.0, 100)  # Right eye\n",
    "canvas.stroke_arc(canvas.width / 2.0, canvas.height / 2.0, 400, 0, pi, False)  # Mouth\n",
    "canvas.stroke_arc(\n",
    "    canvas.width - canvas.width / 2.7, canvas.height / 2.7, 100, 0, pi, True\n",
    ")  # Left eye\n",
    "\n",
    "canvas"
   ]
  }
 ],
 "metadata": {
  "kernelspec": {
   "display_name": "Python 3 (ipykernel)",
   "language": "python",
   "name": "python3"
  },
  "language_info": {
   "codemirror_mode": {
    "name": "ipython",
    "version": 3
   },
   "file_extension": ".py",
   "mimetype": "text/x-python",
   "name": "python",
   "nbconvert_exporter": "python",
   "pygments_lexer": "ipython3",
   "version": "3.10.2"
  }
 },
 "nbformat": 4,
 "nbformat_minor": 5
}
