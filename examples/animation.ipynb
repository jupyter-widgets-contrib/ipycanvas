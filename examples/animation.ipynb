{
 "cells": [
  {
   "cell_type": "code",
   "execution_count": null,
   "metadata": {},
   "outputs": [],
   "source": [
    "from ipycanvas import Canvas, hold_canvas"
   ]
  },
  {
   "cell_type": "code",
   "execution_count": null,
   "metadata": {},
   "outputs": [],
   "source": [
    "import numpy as np"
   ]
  },
  {
   "cell_type": "code",
   "execution_count": null,
   "metadata": {},
   "outputs": [],
   "source": [
    "from math import pi, cos, sin"
   ]
  },
  {
   "cell_type": "code",
   "execution_count": null,
   "metadata": {},
   "outputs": [],
   "source": [
    "def draw(canvas, t):\n",
    "    size = 1000\n",
    "    step = 20\n",
    "    t1 = t / 1000.0\n",
    "\n",
    "    x = 0\n",
    "    while x < size + step:\n",
    "        y = 0\n",
    "        while y < size + step:\n",
    "            x_angle = y_angle = 2 * pi\n",
    "\n",
    "            angle = x_angle * (x / size) + y_angle * (y / size)\n",
    "\n",
    "            particle_x = x + 20 * cos(2 * pi * t1 + angle)\n",
    "            particle_y = y + 20 * sin(2 * pi * t1 + angle)\n",
    "\n",
    "            canvas.fill_circle(particle_x, particle_y, 6)\n",
    "\n",
    "            y = y + step\n",
    "\n",
    "        x = x + step"
   ]
  },
  {
   "cell_type": "code",
   "execution_count": null,
   "metadata": {},
   "outputs": [],
   "source": [
    "def fast_draw(canvas, t):\n",
    "    \"\"\"Same as draw, but using NumPy and the vectorized version of fill_circle: fill_circles\"\"\"\n",
    "    size = 1000\n",
    "    step = 20\n",
    "    t1 = t / 1000.0\n",
    "\n",
    "    x = np.linspace(0, size, int(size / step))\n",
    "    y = np.linspace(0, size, int(size / step))\n",
    "    xv, yv = np.meshgrid(x, y)\n",
    "\n",
    "    x_angle = y_angle = 2 * pi\n",
    "\n",
    "    angle = x_angle * (xv / size) + y_angle * (yv / size)\n",
    "\n",
    "    particle_x = xv + 20 * np.cos(2 * pi * t1 + angle)\n",
    "    particle_y = yv + 20 * np.sin(2 * pi * t1 + angle)\n",
    "\n",
    "    canvas.fill_circles(particle_x, particle_y, 6)"
   ]
  },
  {
   "cell_type": "code",
   "execution_count": null,
   "metadata": {},
   "outputs": [],
   "source": [
    "size = 1000\n",
    "canvas = Canvas(width=size, height=size)\n",
    "canvas.fill_style = \"#fcba03\"\n",
    "canvas"
   ]
  },
  {
   "cell_type": "markdown",
   "metadata": {},
   "source": [
    "### 1: Using `from time import sleep` and `fill_circle`\n",
    "\n",
    "**Worst approach: Slow locally, slow using a remote server (MyBinder)**"
   ]
  },
  {
   "cell_type": "code",
   "execution_count": null,
   "metadata": {},
   "outputs": [],
   "source": [
    "from time import sleep\n",
    "\n",
    "for i in range(200):\n",
    "    with hold_canvas():\n",
    "        canvas.clear()\n",
    "\n",
    "        draw(canvas, i * 20.0)\n",
    "\n",
    "    sleep(20 / 1000.0)"
   ]
  },
  {
   "cell_type": "markdown",
   "metadata": {},
   "source": [
    "### 2: Using `canvas.sleep` and `fill_circle`\n",
    "\n",
    "This caches the entire animation before sending it to the front-end. This results in a slow execution (caching), but it ensure a smooth animation on the front-end whichever the context (local or remote server).\n",
    "\n",
    "**Slow to execute, smooth animation**"
   ]
  },
  {
   "cell_type": "code",
   "execution_count": null,
   "metadata": {},
   "outputs": [],
   "source": [
    "with hold_canvas():\n",
    "    for i in range(200):\n",
    "        canvas.clear()\n",
    "\n",
    "        draw(canvas, i * 20.0)\n",
    "\n",
    "        canvas.sleep(20)"
   ]
  },
  {
   "cell_type": "code",
   "execution_count": null,
   "metadata": {},
   "outputs": [],
   "source": [
    "canvas"
   ]
  },
  {
   "cell_type": "markdown",
   "metadata": {},
   "source": [
    "### 3: Using `from time import sleep` and the vectorized `fill_circles`\n",
    "\n",
    "**Super fast locally, can be fast on a remote server if the latency is correct**"
   ]
  },
  {
   "cell_type": "code",
   "execution_count": null,
   "metadata": {},
   "outputs": [],
   "source": [
    "from time import sleep\n",
    "\n",
    "for i in range(200):\n",
    "    with hold_canvas():\n",
    "        canvas.clear()\n",
    "\n",
    "        fast_draw(canvas, i * 20.0)\n",
    "\n",
    "    sleep(20 / 1000.0)"
   ]
  },
  {
   "cell_type": "markdown",
   "metadata": {},
   "source": [
    "### 4: Using `canvas.sleep` and the vectorized `fill_circles`\n",
    "\n",
    "**Best approach: Super fast locally, super fast on a remote server**"
   ]
  },
  {
   "cell_type": "code",
   "execution_count": null,
   "metadata": {},
   "outputs": [],
   "source": [
    "with hold_canvas():\n",
    "    for i in range(200):\n",
    "        canvas.clear()\n",
    "\n",
    "        fast_draw(canvas, i * 20.0)\n",
    "\n",
    "        canvas.sleep(20)"
   ]
  },
  {
   "cell_type": "markdown",
   "metadata": {},
   "source": [
    "### Conclusion\n",
    "\n",
    "Always use `hold_canvas`!\n",
    "\n",
    "As much as possible, try to use the vectorized version of the base methods if you want to exectute them multiple times (`fill_circles`, `fill_rects` etc).\n",
    "\n",
    "If you can, make use of `canvas.sleep` instead of `from time import sleep` so that the entire animation is sent at once to the front-end, making a smoother animation whatever the server latency."
   ]
  }
 ],
 "metadata": {
  "kernelspec": {
   "display_name": "Python 3 (ipykernel)",
   "language": "python",
   "name": "python3"
  },
  "language_info": {
   "codemirror_mode": {
    "name": "ipython",
    "version": 3
   },
   "file_extension": ".py",
   "mimetype": "text/x-python",
   "name": "python",
   "nbconvert_exporter": "python",
   "pygments_lexer": "ipython3",
   "version": "3.10.0"
  }
 },
 "nbformat": 4,
 "nbformat_minor": 4
}
