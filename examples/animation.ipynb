{
 "cells": [
  {
   "cell_type": "code",
   "execution_count": 1,
   "metadata": {},
   "outputs": [],
   "source": [
    "from ipycanvas import Canvas, hold_canvas, save_gif"
   ]
  },
  {
   "cell_type": "code",
   "execution_count": 2,
   "metadata": {},
   "outputs": [],
   "source": [
    "import numpy as np"
   ]
  },
  {
   "cell_type": "code",
   "execution_count": 3,
   "metadata": {},
   "outputs": [],
   "source": [
    "from math import pi, cos, sin"
   ]
  },
  {
   "cell_type": "code",
   "execution_count": 4,
   "metadata": {},
   "outputs": [],
   "source": [
    "def fast_draw(canvas, t):\n",
    "    \"\"\"Same as draw, but using NumPy and the vectorized version of fill_circle: fill_circles\"\"\"\n",
    "    size = 1000\n",
    "    step = 20\n",
    "    t1 = t / 1000.0\n",
    "\n",
    "    x = np.linspace(0, size, int(size / step))\n",
    "    y = np.linspace(0, size, int(size / step))\n",
    "    xv, yv = np.meshgrid(x, y)\n",
    "\n",
    "    x_angle = y_angle = 2 * pi\n",
    "\n",
    "    angle = x_angle * (xv / size) + y_angle * (yv / size)\n",
    "\n",
    "    particle_x = xv + 20 * np.cos(2 * pi * t1 + angle)\n",
    "    particle_y = yv + 20 * np.sin(2 * pi * t1 + angle)\n",
    "\n",
    "    canvas.fill_circles(particle_x, particle_y, 6)"
   ]
  },
  {
   "cell_type": "code",
   "execution_count": 5,
   "metadata": {},
   "outputs": [],
   "source": [
    "size = 1000\n",
    "canvas = Canvas(width=size, height=size)\n",
    "canvas.fill_style = \"#fcba03\""
   ]
  },
  {
   "cell_type": "code",
   "execution_count": 6,
   "metadata": {},
   "outputs": [],
   "source": [
    "from time import sleep\n",
    "\n",
    "# 50Hz\n",
    "frequency = 20\n",
    "\n",
    "with save_gif(canvas, \"test.gif\", frequency=frequency):\n",
    "    for i in range(50):\n",
    "        canvas.clear()\n",
    "\n",
    "        fast_draw(canvas, i * frequency)\n",
    "\n",
    "        canvas.frame()"
   ]
  }
 ],
 "metadata": {
  "kernelspec": {
   "display_name": "Python 3 (ipykernel)",
   "language": "python",
   "name": "python3"
  },
  "language_info": {
   "codemirror_mode": {
    "name": "ipython",
    "version": 3
   },
   "file_extension": ".py",
   "mimetype": "text/x-python",
   "name": "python",
   "nbconvert_exporter": "python",
   "pygments_lexer": "ipython3",
   "version": "3.10.6"
  }
 },
 "nbformat": 4,
 "nbformat_minor": 4
}
