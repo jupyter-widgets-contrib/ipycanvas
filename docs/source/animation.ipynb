{
 "cells": [
  {
   "cell_type": "code",
   "execution_count": null,
   "metadata": {},
   "outputs": [],
   "source": [
    "import micropip\n",
    "\n",
    "await micropip.install(\"ipycanvas\")"
   ]
  },
  {
   "cell_type": "code",
   "execution_count": null,
   "metadata": {},
   "outputs": [],
   "source": [
    "import asyncio\n",
    "\n",
    "from ipycanvas import Canvas, hold_canvas"
   ]
  },
  {
   "cell_type": "code",
   "execution_count": null,
   "metadata": {},
   "outputs": [],
   "source": [
    "import numpy as np"
   ]
  },
  {
   "cell_type": "code",
   "execution_count": null,
   "metadata": {},
   "outputs": [],
   "source": [
    "from math import pi, cos, sin"
   ]
  },
  {
   "cell_type": "code",
   "execution_count": null,
   "metadata": {},
   "outputs": [],
   "source": [
    "def fast_draw(canvas, t):\n",
    "    \"\"\"Same as draw, but using NumPy and the vectorized version of fill_circle: fill_circles\"\"\"\n",
    "    size = 1000\n",
    "    step = 20\n",
    "    t1 = t / 1000.0\n",
    "\n",
    "    x = np.linspace(0, size, int(size / step))\n",
    "    y = np.linspace(0, size, int(size / step))\n",
    "    xv, yv = np.meshgrid(x, y)\n",
    "\n",
    "    x_angle = y_angle = 2 * pi\n",
    "\n",
    "    angle = x_angle * (xv / size) + y_angle * (yv / size)\n",
    "\n",
    "    particle_x = xv + 20 * np.cos(2 * pi * t1 + angle)\n",
    "    particle_y = yv + 20 * np.sin(2 * pi * t1 + angle)\n",
    "\n",
    "    canvas.fill_circles(particle_x, particle_y, 6)"
   ]
  },
  {
   "cell_type": "code",
   "execution_count": null,
   "metadata": {},
   "outputs": [],
   "source": [
    "size = 1000\n",
    "canvas = Canvas(width=size, height=size)\n",
    "canvas"
   ]
  },
  {
   "cell_type": "code",
   "execution_count": null,
   "metadata": {},
   "outputs": [],
   "source": [
    "from time import sleep\n",
    "\n",
    "for i in range(200):\n",
    "    with hold_canvas():\n",
    "        canvas.clear()\n",
    "        canvas.fill_style = \"white\"\n",
    "        canvas.fill_rect(0, 0, size, size)\n",
    "        canvas.fill_style = \"#fcba03\"\n",
    "\n",
    "        fast_draw(canvas, i * 20.0)\n",
    "\n",
    "    await asyncio.sleep(20 / 1000.0)"
   ]
  }
 ],
 "metadata": {
  "kernelspec": {
   "display_name": "Python 3",
   "language": "python",
   "name": "python3"
  },
  "language_info": {
   "codemirror_mode": {
    "name": "ipython",
    "version": 3
   },
   "file_extension": ".py",
   "mimetype": "text/x-python",
   "name": "python",
   "nbconvert_exporter": "python",
   "pygments_lexer": "ipython3",
   "version": "3.9.5"
  }
 },
 "nbformat": 4,
 "nbformat_minor": 4
}
