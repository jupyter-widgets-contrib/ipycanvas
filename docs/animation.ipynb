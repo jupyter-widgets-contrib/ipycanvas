{
  "metadata": {
    "kernelspec": {
      "display_name": "xeus-python",
      "language": "python",
      "name": "xeus-python"
    },
    "language_info": {
      "file_extension": ".py",
      "mimetype": "text/x-python",
      "name": "python",
      "version": "3.10.2"
    }
  },
  "nbformat_minor": 4,
  "nbformat": 4,
  "cells": [
    {
      "cell_type": "code",
      "source": "from time import sleep\n\nfrom ipycanvas import Canvas, hold_canvas",
      "metadata": {
        "trusted": true
      },
      "execution_count": null,
      "outputs": []
    },
    {
      "cell_type": "code",
      "source": "import numpy as np",
      "metadata": {
        "trusted": true
      },
      "execution_count": null,
      "outputs": []
    },
    {
      "cell_type": "code",
      "source": "from math import pi, cos, sin",
      "metadata": {
        "trusted": true
      },
      "execution_count": null,
      "outputs": []
    },
    {
      "cell_type": "code",
      "source": "def fast_draw(canvas, t):\n    \"\"\"Same as draw, but using NumPy and the vectorized version of fill_circle: fill_circles\"\"\"\n    size = 1000\n    step = 20\n    t1 = t / 1000.0\n\n    x = np.linspace(0, size, int(size / step))\n    y = np.linspace(0, size, int(size / step))\n    xv, yv = np.meshgrid(x, y)\n\n    x_angle = y_angle = 2 * pi\n\n    angle = x_angle * (xv / size) + y_angle * (yv / size)\n\n    particle_x = xv + 20 * np.cos(2 * pi * t1 + angle)\n    particle_y = yv + 20 * np.sin(2 * pi * t1 + angle)\n\n    canvas.fill_circles(particle_x, particle_y, 6)",
      "metadata": {
        "trusted": true
      },
      "execution_count": null,
      "outputs": []
    },
    {
      "cell_type": "code",
      "source": "size = 1000\ncanvas = Canvas(width=size, height=size)\ncanvas",
      "metadata": {
        "trusted": true
      },
      "execution_count": null,
      "outputs": []
    },
    {
      "cell_type": "code",
      "source": "from time import sleep\n\nfor i in range(200):\n    with hold_canvas():\n        canvas.clear()\n        canvas.fill_style = \"#fcba03\"\n\n        fast_draw(canvas, i * 20.0)\n\n    sleep(20 / 1000.0)",
      "metadata": {
        "trusted": true
      },
      "execution_count": null,
      "outputs": []
    }
  ]
}