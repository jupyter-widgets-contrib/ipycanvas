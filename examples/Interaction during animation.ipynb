{
 "cells": [
  {
   "cell_type": "markdown",
   "metadata": {},
   "source": [
    "# Interaction during ipycanvas Animations\n",
    "\n",
    "It can be fun to modify animations as they run, but reacting to user input during a standard animation loop can be difficult. This notebook shows one way to get around this by having the animation loop run in a separate thread."
   ]
  },
  {
   "cell_type": "code",
   "execution_count": 1,
   "metadata": {},
   "outputs": [],
   "source": [
    "import numpy as np\n",
    "from time import sleep\n",
    "from threading import Event, Thread\n",
    "from ipycanvas import Canvas, hold_canvas\n",
    "from ipywidgets import Label, HTML, Button, HBox"
   ]
  },
  {
   "cell_type": "markdown",
   "metadata": {},
   "source": [
    "For this example, we will simulate a number of particles, re-drawing them all each frame with the `fill_rects` function."
   ]
  },
  {
   "cell_type": "code",
   "execution_count": 2,
   "metadata": {},
   "outputs": [],
   "source": [
    "# Create our particles\n",
    "n_particles = 4100\n",
    "x = np.array(np.random.rayleigh(250, n_particles))\n",
    "y = np.array(np.random.rayleigh(250, n_particles))\n",
    "size = np.random.randint(1, 3, n_particles)"
   ]
  },
  {
   "cell_type": "code",
   "execution_count": 3,
   "metadata": {},
   "outputs": [],
   "source": [
    "# Create the canvas\n",
    "canvas = Canvas(width=500, height=200)"
   ]
  },
  {
   "cell_type": "code",
   "execution_count": 4,
   "metadata": {},
   "outputs": [],
   "source": [
    "# Some useful functions that will be used in our animation loop:\n",
    "\n",
    "# Draw the particles to the canvas\n",
    "def draw_particles():\n",
    "    with hold_canvas():\n",
    "        canvas.clear()  # Clear the old animation step\n",
    "        canvas.fill_style = \"green\"\n",
    "        canvas.fill_rects(x, y, size)  # Draw the new frame\n",
    "\n",
    "\n",
    "# Calculate new locations for the particles\n",
    "def update_particle_locations():\n",
    "    global x, y\n",
    "    x = (x + 1) % 500\n",
    "    y = (y + np.cos(x / 100)) % 200"
   ]
  },
  {
   "cell_type": "markdown",
   "metadata": {},
   "source": [
    "The key goal here is to enable interactivity. In this case this is done by creating a function that adds some new particles around a location, and setting this function as a callback that will be called when we click on the canvas."
   ]
  },
  {
   "cell_type": "code",
   "execution_count": 5,
   "metadata": {},
   "outputs": [],
   "source": [
    "def handle_mouse_down(xpos, ypos):\n",
    "    global x, y\n",
    "    x_new = np.array(np.random.rayleigh(30, 100)) + xpos - 15\n",
    "    y_new = np.array(np.random.rayleigh(30, 100)) + ypos - 15\n",
    "    x = np.concatenate([x[-4000:], x_new])\n",
    "    y = np.concatenate([y[-4000:], y_new])\n",
    "    size = np.random.randint(1, 3, len(x))\n",
    "    draw_particles()\n",
    "\n",
    "\n",
    "# Register mouse click callback\n",
    "canvas.on_mouse_down(handle_mouse_down)"
   ]
  },
  {
   "cell_type": "markdown",
   "metadata": {},
   "source": [
    "With the setup out of the way, we can draw the first frame to the canvas and display it. Try clicking on the canvas to see the `handle_mouse_down` function's effect."
   ]
  },
  {
   "cell_type": "code",
   "execution_count": 6,
   "metadata": {},
   "outputs": [
    {
     "data": {
      "application/vnd.jupyter.widget-view+json": {
       "model_id": "69eea7ee3ce24b7c8c40ae2334fdf6fd",
       "version_major": 2,
       "version_minor": 0
      },
      "text/plain": [
       "Canvas(height=200, width=500)"
      ]
     },
     "metadata": {},
     "output_type": "display_data"
    }
   ],
   "source": [
    "draw_particles()  # Running once to draw the first frame\n",
    "display(canvas)"
   ]
  },
  {
   "cell_type": "markdown",
   "metadata": {},
   "source": [
    "We get 'interactivity' as hoped - every click results in some new particles being added at that location. However, the issue comes when we try to interact while animating. Run the following loop and try to click on the canvas as it runs:"
   ]
  },
  {
   "cell_type": "code",
   "execution_count": 7,
   "metadata": {},
   "outputs": [],
   "source": [
    "for i in range(200):\n",
    "    update_particle_locations()\n",
    "    draw_particles()\n",
    "    sleep(0.02)"
   ]
  },
  {
   "cell_type": "markdown",
   "metadata": {},
   "source": [
    "Nothing happens in response to clicks while the animation is running. It is only once the loop finishes that we see flash of activity as some of the callbacks are belatedly run all at once. Now run the following cell and try interacting again:"
   ]
  },
  {
   "cell_type": "code",
   "execution_count": 8,
   "metadata": {},
   "outputs": [],
   "source": [
    "stopped = Event()\n",
    "\n",
    "\n",
    "def loop():\n",
    "    while not stopped.wait(0.02):  # 0.02 secs -> ~50fps\n",
    "        update_particle_locations()\n",
    "        draw_particles()\n",
    "\n",
    "\n",
    "Thread(target=loop).start()"
   ]
  },
  {
   "cell_type": "markdown",
   "metadata": {},
   "source": [
    "And to stop the animation:"
   ]
  },
  {
   "cell_type": "code",
   "execution_count": 9,
   "metadata": {},
   "outputs": [],
   "source": [
    "stopped.set()"
   ]
  },
  {
   "cell_type": "markdown",
   "metadata": {},
   "source": [
    "### Explanation\n",
    "\n",
    "In the first animation attempt, everything is running in a single thread. This means we cannot run callbacks (or any other code for that matter) while the animation loop runs. To fix this, we create and run a new Thread to run the animation loop (`Thread(target=loop).start() `). This frees the main thread to do other things, such as handle interaction.\n",
    "\n",
    "An `Event` has `set` and `clear` methods that allow for safe communication between threads. In this case our `loop` function that is running in its own thread will terminate if we run `stopped.set()`, allowing us to stop the animation."
   ]
  },
  {
   "cell_type": "markdown",
   "metadata": {},
   "source": [
    "# Worked Example\n",
    "\n",
    "For this example, as before, we will be updating some particles and adding new ones on mouse clicks. We use perlin noise to determine particle direction. The following cell results in a `perlin` function that takes in an x, y coordinate and returns a value - see [here](https://johnowhitaker.github.io/days_of_code/Playing_with_Perlin.html) for a more readable implementation."
   ]
  },
  {
   "cell_type": "code",
   "execution_count": 10,
   "metadata": {},
   "outputs": [
    {
     "data": {
      "text/plain": [
       "0.3321607704321994"
      ]
     },
     "execution_count": 10,
     "metadata": {},
     "output_type": "execute_result"
    }
   ],
   "source": [
    "# Quick and dirty perlin noise function\n",
    "def dgg(ix, iy, x, y):\n",
    "    random = (\n",
    "        2920\n",
    "        * np.sin(ix * 21942 + iy * 171324 + 8912)\n",
    "        * np.cos(ix * 23157 * iy * 217832 + 9758)\n",
    "    )\n",
    "    return (x - ix) * np.cos(random) + (y - iy) * np.sin(random)\n",
    "\n",
    "\n",
    "def perlin(x, y):\n",
    "    x0, y0 = np.array(x).astype(int), np.array(y).astype(int)\n",
    "    n0, n1 = dgg(x0, y0, x, y), dgg((x0 + 1), y0, x, y)\n",
    "    ix0 = (n1 - n0) * (x - x0) + n0\n",
    "    n0, n1 = dgg(x0, (y0 + 1), x, y), dgg((x0 + 1), (y0 + 1), x, y)\n",
    "    return (((n1 - n0) * (x - x0) + n0) - ix0) * (y - y0) + ix0\n",
    "\n",
    "\n",
    "perlin(0.3, 0.2)  # Given x and y coords it generates a value"
   ]
  },
  {
   "cell_type": "markdown",
   "metadata": {},
   "source": [
    "Now, as before, we set up our initial particle locations, define functions to update their positions (this time based on the perlin function) and to draw the particles to the canvas, register a callback to handle mouse clicks and start an animation thread. In addition, we add buttons to stop the animation, to restart it and to randomize the particle locations. Notice that when the start button is clicked it checks that the thread is not already running - removing this check will allow you to start several threads, all updating the animation, which results in a higher and higher framerate."
   ]
  },
  {
   "cell_type": "code",
   "execution_count": 11,
   "metadata": {},
   "outputs": [
    {
     "data": {
      "application/vnd.jupyter.widget-view+json": {
       "model_id": "77d8c2b6293f4e5c8dbbbad5f9a4a994",
       "version_major": 2,
       "version_minor": 0
      },
      "text/plain": [
       "Canvas(width=500)"
      ]
     },
     "metadata": {},
     "output_type": "display_data"
    },
    {
     "data": {
      "application/vnd.jupyter.widget-view+json": {
       "model_id": "13fca3feb1de4cc0b2079f8bf55bd782",
       "version_major": 2,
       "version_minor": 0
      },
      "text/plain": [
       "HBox(children=(Button(description='Start', style=ButtonStyle()), Button(description='Stop', style=ButtonStyle(…"
      ]
     },
     "metadata": {},
     "output_type": "display_data"
    }
   ],
   "source": [
    "# Setting up the canvas\n",
    "canvas2 = Canvas(width=500, height=500)\n",
    "\n",
    "# Some particles (as before)\n",
    "n_particles = 4100\n",
    "x = np.array(np.random.rayleigh(250, n_particles))\n",
    "y = np.array(np.random.rayleigh(250, n_particles))\n",
    "size = np.random.randint(1, 3, n_particles)\n",
    "\n",
    "\n",
    "def handle_mouse_down(xpos, ypos):\n",
    "    global x, y\n",
    "    x_new = np.array(np.random.rayleigh(30, 100)) + xpos - 15\n",
    "    y_new = np.array(np.random.rayleigh(30, 100)) + ypos - 15\n",
    "    x = np.concatenate([x[-4000:], x_new])\n",
    "    y = np.concatenate([y[-4000:], y_new])\n",
    "    size = np.random.randint(1, 3, len(x))\n",
    "    draw_particles()\n",
    "\n",
    "\n",
    "# Register mouse click callback\n",
    "canvas2.on_mouse_down(handle_mouse_down)\n",
    "\n",
    "\n",
    "def draw_particles():\n",
    "    with hold_canvas():\n",
    "        canvas2.clear()  # Clear the old animation step\n",
    "        canvas2.fill_style = \"green\"\n",
    "        canvas2.fill_rects(x, y, size)  # Draw the new frame\n",
    "\n",
    "\n",
    "def update_particle_locations():\n",
    "    global x, y\n",
    "    angles = perlin(x / 35, y / 35) * 3\n",
    "    x += np.sin(angles) * 0.3\n",
    "    y += np.cos(angles) * 0.3\n",
    "\n",
    "\n",
    "stopped = Event()\n",
    "\n",
    "\n",
    "def loop():\n",
    "    while not stopped.wait(0.02):  # the first call is in `interval` secs\n",
    "        update_particle_locations()\n",
    "        draw_particles()\n",
    "\n",
    "\n",
    "Thread(target=loop).start()  # Start it by default\n",
    "\n",
    "start_btn = Button(description=\"Start\")\n",
    "\n",
    "\n",
    "def start(btn):\n",
    "    if stopped.isSet():\n",
    "        stopped.clear()\n",
    "        Thread(target=loop).start()\n",
    "\n",
    "\n",
    "start_btn.on_click(start)\n",
    "\n",
    "stop_btn = Button(description=\"Stop\")\n",
    "\n",
    "\n",
    "def stop(btn):\n",
    "    if not stopped.isSet():\n",
    "        stopped.set()\n",
    "\n",
    "\n",
    "stop_btn.on_click(stop)\n",
    "\n",
    "reset_btn = Button(description=\"Randomize Particles\")\n",
    "\n",
    "\n",
    "def reset(btn):\n",
    "    global x, y, size\n",
    "    x = np.array(np.random.rayleigh(250, n_particles))\n",
    "    y = np.array(np.random.rayleigh(250, n_particles))\n",
    "    size = np.random.randint(1, 3, n_particles)\n",
    "    draw_particles()\n",
    "\n",
    "\n",
    "reset_btn.on_click(reset)\n",
    "\n",
    "display(canvas2, HBox([start_btn, stop_btn, reset_btn]))"
   ]
  },
  {
   "cell_type": "markdown",
   "metadata": {},
   "source": [
    "# Conclusions\n",
    "\n",
    "Using threads allows us to create interactive animations that don't block our main thread from executing. This notebook shows one possible way to achieve this - there are alternatives such as the advanced python scheduler or the use of threading.Timer as in [this StackOverflow answer](https://stackoverflow.com/a/13151299). The latter was used in [the notebook](https://johnowhitaker.github.io/days_of_code/Interaction_with_ipycanvas.html) from which this example is derived. Whatever the specifics of the implementation, the core idea is to offload the animation loop to its own thread in some way."
   ]
  }
 ],
 "metadata": {
  "kernelspec": {
   "display_name": "Python 3 (ipykernel)",
   "language": "python",
   "name": "python3"
  },
  "language_info": {
   "codemirror_mode": {
    "name": "ipython",
    "version": 3
   },
   "file_extension": ".py",
   "mimetype": "text/x-python",
   "name": "python",
   "nbconvert_exporter": "python",
   "pygments_lexer": "ipython3",
   "version": "3.9.7"
  }
 },
 "nbformat": 4,
 "nbformat_minor": 4
}
