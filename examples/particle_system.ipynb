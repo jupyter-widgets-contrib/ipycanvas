{
 "cells": [
  {
   "cell_type": "code",
   "execution_count": null,
   "metadata": {},
   "outputs": [],
   "source": [
    "from time import sleep, time\n",
    "from random import randint, weibullvariate, choice\n",
    "\n",
    "import numpy as np\n",
    "\n",
    "from ipycanvas import Canvas, hold_canvas"
   ]
  },
  {
   "cell_type": "code",
   "execution_count": null,
   "metadata": {},
   "outputs": [],
   "source": [
    "n_particles = 100_000\n",
    "\n",
    "x = np.array(np.random.rayleigh(250, n_particles), dtype=np.int32)\n",
    "y = np.array(np.random.rayleigh(250, n_particles), dtype=np.int32)\n",
    "size = np.random.randint(1, 3, n_particles)"
   ]
  },
  {
   "cell_type": "code",
   "execution_count": null,
   "metadata": {},
   "outputs": [],
   "source": [
    "canvas = Canvas(width=800, height=500)\n",
    "canvas"
   ]
  },
  {
   "cell_type": "code",
   "execution_count": null,
   "metadata": {},
   "outputs": [],
   "source": [
    "canvas.fill_rects(x, y, size)"
   ]
  },
  {
   "cell_type": "code",
   "execution_count": null,
   "metadata": {},
   "outputs": [],
   "source": [
    "blurred_canvas = Canvas(width=800, height=500)\n",
    "blurred_canvas.filter = \"blur(1px) drop-shadow(-9px 9px 3px #e81)\"\n",
    "\n",
    "blurred_canvas.draw_image(canvas)\n",
    "\n",
    "blurred_canvas"
   ]
  },
  {
   "cell_type": "markdown",
   "metadata": {},
   "source": [
    "# Random color particles"
   ]
  },
  {
   "cell_type": "code",
   "execution_count": null,
   "metadata": {},
   "outputs": [],
   "source": [
    "canvas = Canvas(width=800, height=500)\n",
    "canvas"
   ]
  },
  {
   "cell_type": "code",
   "execution_count": null,
   "metadata": {},
   "outputs": [],
   "source": [
    "with hold_canvas():\n",
    "    canvas.fill_style = \"red\"\n",
    "    canvas.fill_rects(x[:30_000], y[:30_000], size)\n",
    "\n",
    "    canvas.fill_style = \"orange\"\n",
    "    canvas.fill_rects(x[30_001:60_000], y[30_001:60_000], size)\n",
    "\n",
    "    canvas.fill_style = \"yellow\"\n",
    "    canvas.fill_rects(x[60_001:], y[60_001:], size)"
   ]
  },
  {
   "cell_type": "markdown",
   "metadata": {},
   "source": [
    "# Stroked particles"
   ]
  },
  {
   "cell_type": "code",
   "execution_count": null,
   "metadata": {},
   "outputs": [],
   "source": [
    "n_particles = 5_000\n",
    "\n",
    "x = np.array(np.random.rayleigh(250, n_particles), dtype=np.int32)\n",
    "y = np.array(np.random.rayleigh(250, n_particles), dtype=np.int32)\n",
    "size = np.random.randint(5, 10, n_particles)\n",
    "\n",
    "canvas = Canvas(width=800, height=500)\n",
    "\n",
    "canvas.fill_style = \"#c0dced\"\n",
    "canvas.stroke_style = \"#3279a8\"\n",
    "canvas.line_width = 1.5\n",
    "\n",
    "canvas.fill_rects(x, y, size)\n",
    "canvas.stroke_rects(x, y, size)\n",
    "\n",
    "canvas"
   ]
  },
  {
   "cell_type": "markdown",
   "metadata": {},
   "source": [
    "# Moving particles"
   ]
  },
  {
   "cell_type": "code",
   "execution_count": null,
   "metadata": {},
   "outputs": [],
   "source": [
    "n = 2_000"
   ]
  },
  {
   "cell_type": "code",
   "execution_count": null,
   "metadata": {},
   "outputs": [],
   "source": [
    "current_time = time()\n",
    "\n",
    "\n",
    "def move_particles(x, speed_x, y, speed_y):\n",
    "    global current_time\n",
    "\n",
    "    elapsed_time = time() - current_time\n",
    "\n",
    "    x += np.array(speed_x * elapsed_time, dtype=np.int32)\n",
    "    y += np.array(speed_y * elapsed_time, dtype=np.int32)\n",
    "\n",
    "    current_time = time()"
   ]
  },
  {
   "cell_type": "code",
   "execution_count": null,
   "metadata": {},
   "outputs": [],
   "source": [
    "x = np.array(np.random.rayleigh(250, n_particles), dtype=np.int32)\n",
    "y = np.array(np.random.rayleigh(250, n_particles), dtype=np.int32)\n",
    "size = np.random.randint(1, 3, n_particles)\n",
    "speed_x = np.random.randint(-40, 40, n_particles)\n",
    "speed_y = np.random.randint(-40, 40, n_particles)"
   ]
  },
  {
   "cell_type": "code",
   "execution_count": null,
   "metadata": {},
   "outputs": [],
   "source": [
    "canvas = Canvas(width=800, height=500)\n",
    "\n",
    "display(canvas)\n",
    "\n",
    "canvas.fill_style = \"green\"\n",
    "\n",
    "for _ in range(75):\n",
    "    move_particles(x, speed_x, y, speed_y)\n",
    "\n",
    "    with hold_canvas():\n",
    "        canvas.clear()\n",
    "        canvas.fill_rects(x, y, size)\n",
    "\n",
    "    sleep(0.08)"
   ]
  },
  {
   "cell_type": "code",
   "execution_count": null,
   "metadata": {},
   "outputs": [],
   "source": []
  }
 ],
 "metadata": {
  "kernelspec": {
   "display_name": "Python 3 (ipykernel)",
   "language": "python",
   "name": "python3"
  },
  "language_info": {
   "codemirror_mode": {
    "name": "ipython",
    "version": 3
   },
   "file_extension": ".py",
   "mimetype": "text/x-python",
   "name": "python",
   "nbconvert_exporter": "python",
   "pygments_lexer": "ipython3",
   "version": "3.10.2"
  }
 },
 "nbformat": 4,
 "nbformat_minor": 4
}
